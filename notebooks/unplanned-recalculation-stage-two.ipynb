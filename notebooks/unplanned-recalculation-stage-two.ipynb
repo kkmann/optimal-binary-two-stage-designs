{
 "cells": [
  {
   "cell_type": "code",
   "execution_count": 1,
   "metadata": {},
   "outputs": [],
   "source": [
    "using bad"
   ]
  },
  {
   "cell_type": "code",
   "execution_count": 2,
   "metadata": {},
   "outputs": [
    {
     "name": "stderr",
     "output_type": "stream",
     "text": [
      "\u001b[39mBuilding ILP Problem:   6%[=>                  ]  ETA: 0:00:16\u001b[39m\n",
      "\u001b[A9m  building constraints for n1=7:  ...\u001b[39m\n",
      "\u001b[39mBuilding ILP Problem:  10%[=>                  ]  ETA: 0:00:15\u001b[39m\n",
      "\u001b[A9m  building constraints for n1=8:  ...\u001b[39m\n",
      "\u001b[39mBuilding ILP Problem:  26%[=====>              ]  ETA: 0:00:05\u001b[39m\n",
      "\u001b[A9m  building constraints for n1=13:  ...\u001b[39m\n",
      "\u001b[39mBuilding ILP Problem:  35%[=======>            ]  ETA: 0:00:03\u001b[39m\n",
      "\u001b[A9m  building constraints for n1=16:  ...\u001b[39m\n",
      "\u001b[39mBuilding ILP Problem:  42%[========>           ]  ETA: 0:00:03\u001b[39m\n",
      "\u001b[A9m  building constraints for n1=18:  ...\u001b[39m\n",
      "\u001b[39mBuilding ILP Problem:  48%[=========>          ]  ETA: 0:00:02\u001b[39m\n",
      "\u001b[A9m  building constraints for n1=20:  ...\u001b[39m\n",
      "\u001b[39mBuilding ILP Problem:  55%[==========>         ]  ETA: 0:00:02\u001b[39m\n",
      "\u001b[A9m  building constraints for n1=22:  ...\u001b[39m\n",
      "\u001b[39mBuilding ILP Problem:  61%[============>       ]  ETA: 0:00:02\u001b[39m\n",
      "\u001b[A9m  building constraints for n1=24:  ...\u001b[39m\n",
      "\u001b[39mBuilding ILP Problem:  68%[=============>      ]  ETA: 0:00:01\u001b[39m\n",
      "\u001b[A9m  building constraints for n1=26:  ...\u001b[39m\n",
      "\u001b[39mBuilding ILP Problem:  74%[==============>     ]  ETA: 0:00:01\u001b[39m\n",
      "\u001b[A9m  building constraints for n1=28:  ...\u001b[39m\n",
      "\u001b[39mBuilding ILP Problem:  81%[================>   ]  ETA: 0:00:01\u001b[39m\n",
      "\u001b[A9m  building constraints for n1=30:  ...\u001b[39m\n",
      "\u001b[39mBuilding ILP Problem:  87%[=================>  ]  ETA: 0:00:00\u001b[39m\n",
      "\u001b[A9m  building constraints for n1=32:  ...\u001b[39m\n",
      "\u001b[39mBuilding ILP Problem:  94%[==================> ]  ETA: 0:00:00\u001b[39m\n",
      "\u001b[A9m  adding type one error rate constraint:  ...\u001b[39m\n",
      "\u001b[39mBuilding ILP Problem:  97%[===================>]  ETA: 0:00:00\u001b[39m\n",
      "\u001b[A9m  adding power constraint:  ...\u001b[39m\n",
      "\u001b[39mBuilding ILP Problem: 100%[====================] Time: 0:00:05\u001b[39m\n",
      "\u001b[39m  adding objective:  ...\u001b[39m\n"
     ]
    },
    {
     "name": "stdout",
     "output_type": "stream",
     "text": [
      "GLPK Simplex Optimizer, v4.64\n",
      "2217 rows, 27418 columns, 156608 non-zeros\n",
      "      0: obj =   0.000000000e+00 inf =   1.800e+00 (2)\n",
      "    280: obj =   3.847877516e+01 inf =   4.441e-16 (0) 2\n",
      "*   866: obj =   2.647540659e+01 inf =   2.220e-16 (0) 4\n",
      "OPTIMAL LP SOLUTION FOUND\n",
      "GLPK Integer Optimizer, v4.64\n",
      "2217 rows, 27418 columns, 156608 non-zeros\n",
      "27418 integer variables, all of which are binary\n",
      "Integer optimization begins...\n",
      "+   866: mip =     not found yet >=              -inf        (1; 0)\n",
      "Solution found by heuristic: 27.0873113299\n",
      "Solution found by heuristic: 26.7474499262\n",
      "Solution found by heuristic: 26.6802411317\n",
      "+  1219: mip =   2.668024113e+01 >=     tree is empty   0.0% (0; 149)\n",
      "INTEGER OPTIMAL SOLUTION FOUND\n"
     ]
    },
    {
     "data": {
      "text/plain": [
       "OptimalDesign{Int64,Real}<n1=19;n2:[5,7]->[17,25]>"
      ]
     },
     "execution_count": 2,
     "metadata": {},
     "output_type": "execute_result"
    }
   ],
   "source": [
    "# construct the usual prior\n",
    "pnull  = .2 # response under TAU\n",
    "pmcr   = pnull + .1 # minimal clinically relevant\n",
    "prior1 = Beta(mean = .35, sd = .1)  # start with an subjective prior\n",
    "prior2 = update(prior1, 4, 10)      # update with phase I data\n",
    "prior3 = .8*prior2 + .2*Beta(1, 1)  # robustify\n",
    "prior  = prior3 <= min(.7) # restrict to plausible range\n",
    "\n",
    "mtoer = Power(prior  | pnull)\n",
    "power = Power(prior >= pmcr)\n",
    "ess   = SampleSize(prior)\n",
    "\n",
    "α, β = .05, .2\n",
    "problem = Problem(\n",
    "        minimise(ess),\n",
    "        mtoer <= α,\n",
    "        power >= 1 - β\n",
    "    )\n",
    "design = optimise(problem)"
   ]
  },
  {
   "cell_type": "code",
   "execution_count": 3,
   "metadata": {},
   "outputs": [
    {
     "data": {
      "text/plain": [
       "(0.16423372393676816, 0.7085811866488989)"
      ]
     },
     "execution_count": 3,
     "metadata": {},
     "output_type": "execute_result"
    }
   ],
   "source": [
    "# upate with new external data\n",
    "prior_ = (0.8*update(prior2, 2, 10) + 0.2*Beta(1, 1)) <= 0.7\n",
    "# stage one observed outcome\n",
    "x1 = 6\n",
    "# partial stage two outcome (x, n)\n",
    "partial_stage_two = 2, 5\n",
    "# copy the deisgn\n",
    "design_ = deepcopy(design)\n",
    "n2_original, c2_original = n2(design, x1), c2(design, x1)\n",
    "# compute conditional error / power\n",
    "toer = design.problem.toer.score\n",
    "pow  = design.problem.power.score\n",
    "α_   = toer(design, x1, partial_stage_two = partial_stage_two)\n",
    "β_   = 1 - pow(design, x1, partial_stage_two = partial_stage_two)\n",
    "\n",
    "α_, 1 - β_"
   ]
  },
  {
   "cell_type": "code",
   "execution_count": 4,
   "metadata": {},
   "outputs": [
    {
     "data": {
      "text/plain": [
       "cep (generic function with 1 method)"
      ]
     },
     "execution_count": 4,
     "metadata": {},
     "output_type": "execute_result"
    }
   ],
   "source": [
    "# compute conditional type two error of new design\n",
    "function ctoer(n2_new, c2_new)\n",
    "    design_.n2[x1 + 1] = n2_new\n",
    "    design_.c2[x1 + 1] = c2_new\n",
    "    toer(design_, x1, partial_stage_two = partial_stage_two)\n",
    "end\n",
    "\n",
    "# same for conditional power\n",
    "pow = update(pow, prior_)\n",
    "function cep(n2_new, c2_new)\n",
    "    design_.n2[x1 + 1] = n2_new\n",
    "    design_.c2[x1 + 1] = c2_new\n",
    "    pow(design_, x1, partial_stage_two = partial_stage_two)\n",
    "end"
   ]
  },
  {
   "cell_type": "code",
   "execution_count": 5,
   "metadata": {},
   "outputs": [
    {
     "data": {
      "text/plain": [
       "f (generic function with 1 method)"
      ]
     },
     "execution_count": 5,
     "metadata": {},
     "output_type": "execute_result"
    }
   ],
   "source": [
    "# iterate until solution is found\n",
    "function f()\n",
    "    n2_new, c2_new = partial_stage_two[2], -Inf\n",
    "    a, b = ctoer(n2_new, c2_new), cep(n2_new, c2_new)\n",
    "    while (a > α_) | (b < 1 - β_)\n",
    "        for c2_new in vcat([-Inf], 0:(n2_new - 1), [Inf])\n",
    "            a, b = ctoer(n2_new, c2_new), cep(n2_new, c2_new)\n",
    "            if (a <= α_) & (b >= 1 - β_)\n",
    "                return n2_new, c2_new\n",
    "            end\n",
    "        end\n",
    "        n2_new += 1\n",
    "    end\n",
    "end"
   ]
  },
  {
   "cell_type": "code",
   "execution_count": 6,
   "metadata": {},
   "outputs": [
    {
     "data": {
      "text/plain": [
       "(0.16306230424853563, 0.7273949119534779)"
      ]
     },
     "execution_count": 6,
     "metadata": {},
     "output_type": "execute_result"
    }
   ],
   "source": [
    "n2_new, c2_new = f()\n",
    "ctoer(n2_new, c2_new), cep(n2_new, c2_new)"
   ]
  },
  {
   "cell_type": "code",
   "execution_count": 7,
   "metadata": {},
   "outputs": [
    {
     "data": {
      "text/plain": [
       "(0.15076247939144405, 0.820561600895777)"
      ]
     },
     "execution_count": 7,
     "metadata": {},
     "output_type": "execute_result"
    }
   ],
   "source": [
    "# same but with original power level\n",
    "β_ = 0.2\n",
    "n2_new, c2_new = f()\n",
    "ctoer(n2_new, c2_new), cep(n2_new, c2_new)"
   ]
  }
 ],
 "metadata": {
  "kernelspec": {
   "display_name": "Julia 1.3.0",
   "language": "julia",
   "name": "julia-1.3"
  },
  "language_info": {
   "file_extension": ".jl",
   "mimetype": "application/julia",
   "name": "julia",
   "version": "1.3.0"
  }
 },
 "nbformat": 4,
 "nbformat_minor": 4
}
